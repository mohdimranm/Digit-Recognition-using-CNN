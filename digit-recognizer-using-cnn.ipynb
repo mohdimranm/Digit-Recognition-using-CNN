{
 "cells": [
  {
   "cell_type": "code",
   "execution_count": 1,
   "metadata": {
    "_cell_guid": "b1076dfc-b9ad-4769-8c92-a6c4dae69d19",
    "_uuid": "8f2839f25d086af736a60e9eeb907d3b93b6e0e5"
   },
   "outputs": [
    {
     "name": "stdout",
     "output_type": "stream",
     "text": [
      "['train.csv', 'sample_submission.csv', 'test.csv']\n"
     ]
    }
   ],
   "source": [
    "# This Python 3 environment comes with many helpful analytics libraries installed\n",
    "# It is defined by the kaggle/python docker image: https://github.com/kaggle/docker-python\n",
    "# For example, here's several helpful packages to load in \n",
    "\n",
    "import numpy as np # linear algebra\n",
    "import pandas as pd # data processing, CSV file I/O (e.g. pd.read_csv)\n",
    "\n",
    "# Input data files are available in the \"../input/\" directory.\n",
    "# For example, running this (by clicking run or pressing Shift+Enter) will list the files in the input directory\n",
    "\n",
    "import os\n",
    "print(os.listdir(\"../input\"))\n",
    "\n",
    "# Any results you write to the current directory are saved as output."
   ]
  },
  {
   "cell_type": "code",
   "execution_count": 2,
   "metadata": {
    "_cell_guid": "79c7e3d0-c299-4dcb-8224-4455121ee9b0",
    "_uuid": "d629ff2d2480ee46fbb7e2d37f6b5fab8052498a"
   },
   "outputs": [
    {
     "name": "stderr",
     "output_type": "stream",
     "text": [
      "Using TensorFlow backend.\n"
     ]
    }
   ],
   "source": [
    "import matplotlib.pyplot as plt\n",
    "import seaborn as sns\n",
    "from sklearn.model_selection import train_test_split\n",
    "import keras\n",
    "from keras.models import Sequential\n",
    "from keras.layers import Dense,Flatten,Conv2D,MaxPooling2D,Dropout,BatchNormalization\n",
    "from keras.preprocessing.image  import load_img,ImageDataGenerator\n",
    "from keras.preprocessing.image import img_to_array\n",
    "from keras.utils import np_utils"
   ]
  },
  {
   "cell_type": "code",
   "execution_count": 3,
   "metadata": {},
   "outputs": [],
   "source": [
    "train = pd.read_csv('../input/train.csv')\n",
    "test= pd.read_csv('../input/test.csv')"
   ]
  },
  {
   "cell_type": "code",
   "execution_count": 4,
   "metadata": {},
   "outputs": [],
   "source": [
    "train.head()\n",
    "X_train= train.drop(['label'],axis=1)"
   ]
  },
  {
   "cell_type": "code",
   "execution_count": 5,
   "metadata": {},
   "outputs": [],
   "source": [
    "y_train= train['label']"
   ]
  },
  {
   "cell_type": "code",
   "execution_count": 6,
   "metadata": {},
   "outputs": [],
   "source": [
    "del train"
   ]
  },
  {
   "cell_type": "code",
   "execution_count": 7,
   "metadata": {},
   "outputs": [
    {
     "data": {
      "text/plain": [
       "<matplotlib.axes._subplots.AxesSubplot at 0x7efc8504fac8>"
      ]
     },
     "execution_count": 7,
     "metadata": {},
     "output_type": "execute_result"
    },
    {
     "data": {
      "image/png": "[encoded data removed]",
      "text/plain": [
       "<Figure size 432x288 with 1 Axes>"
      ]
     },
     "metadata": {
      "needs_background": "light"
     },
     "output_type": "display_data"
    }
   ],
   "source": [
    "sns.countplot(y_train)"
   ]
  },
  {
   "cell_type": "code",
   "execution_count": 8,
   "metadata": {},
   "outputs": [
    {
     "data": {
      "text/plain": [
       "(count       784\n",
       " unique        1\n",
       " top       False\n",
       " freq        784\n",
       " dtype: object, count       784\n",
       " unique        1\n",
       " top       False\n",
       " freq        784\n",
       " dtype: object)"
      ]
     },
     "execution_count": 8,
     "metadata": {},
     "output_type": "execute_result"
    }
   ],
   "source": [
    "X_train.isnull().any().describe(), test.isnull().any().describe()"
   ]
  },
  {
   "cell_type": "code",
   "execution_count": 9,
   "metadata": {},
   "outputs": [],
   "source": [
    "X_train=X_train.astype('float32')/255\n",
    "test=test.astype('float32')/255\n"
   ]
  },
  {
   "cell_type": "code",
   "execution_count": null,
   "metadata": {},
   "outputs": [],
   "source": []
  },
  {
   "cell_type": "code",
   "execution_count": 10,
   "metadata": {},
   "outputs": [],
   "source": [
    "num_classes=len(np.unique(y_train))"
   ]
  },
  {
   "cell_type": "code",
   "execution_count": 11,
   "metadata": {},
   "outputs": [
    {
     "name": "stderr",
     "output_type": "stream",
     "text": [
      "/opt/conda/lib/python3.6/site-packages/ipykernel_launcher.py:1: FutureWarning: Method .as_matrix will be removed in a future version. Use .values instead.\n",
      "  \"\"\"Entry point for launching an IPython kernel.\n"
     ]
    },
    {
     "data": {
      "text/plain": [
       "<matplotlib.image.AxesImage at 0x7efc852fd080>"
      ]
     },
     "execution_count": 11,
     "metadata": {},
     "output_type": "execute_result"
    },
    {
     "data": {
      "image/png": "[encoded data removed]",
      "text/plain": [
       "<Figure size 432x288 with 1 Axes>"
      ]
     },
     "metadata": {
      "needs_background": "light"
     },
     "output_type": "display_data"
    }
   ],
   "source": [
    "img=X_train.iloc[0].as_matrix()\n",
    "plt.imshow(img.reshape((28,28)))"
   ]
  },
  {
   "cell_type": "code",
   "execution_count": 12,
   "metadata": {},
   "outputs": [],
   "source": [
    "y_train=keras.utils.to_categorical(y_train,num_classes)"
   ]
  },
  {
   "cell_type": "code",
   "execution_count": 13,
   "metadata": {},
   "outputs": [],
   "source": [
    "X_train=X_train.values.reshape(-1,28,28,1)\n",
    "test= test.values.reshape(-1,28,28,1)"
   ]
  },
  {
   "cell_type": "code",
   "execution_count": 14,
   "metadata": {},
   "outputs": [],
   "source": [
    "X_train,X_valid,y_train,y_valid=train_test_split(X_train,y_train,test_size=0.15)"
   ]
  },
  {
   "cell_type": "code",
   "execution_count": 15,
   "metadata": {},
   "outputs": [
    {
     "name": "stdout",
     "output_type": "stream",
     "text": [
      "(35700, 28, 28, 1)\n"
     ]
    }
   ],
   "source": [
    "print(X_train.shape)"
   ]
  },
  {
   "cell_type": "code",
   "execution_count": 16,
   "metadata": {},
   "outputs": [
    {
     "data": {
      "text/plain": [
       "<matplotlib.image.AxesImage at 0x7efc852d1128>"
      ]
     },
     "execution_count": 16,
     "metadata": {},
     "output_type": "execute_result"
    },
    {
     "data": {
      "image/png": "[encoded data removed]",
      "text/plain": [
       "<Figure size 432x288 with 1 Axes>"
      ]
     },
     "metadata": {
      "needs_background": "light"
     },
     "output_type": "display_data"
    }
   ],
   "source": [
    "plt.imshow(X_train[1][:,:,0],cmap='gray')"
   ]
  },
  {
   "cell_type": "code",
   "execution_count": 17,
   "metadata": {},
   "outputs": [
    {
     "name": "stdout",
     "output_type": "stream",
     "text": [
      "_________________________________________________________________\n",
      "Layer (type)                 Output Shape              Param #   \n",
      "=================================================================\n",
      "conv2d_1 (Conv2D)            (None, 28, 28, 16)        80        \n",
      "_________________________________________________________________\n",
      "max_pooling2d_1 (MaxPooling2 (None, 14, 14, 16)        0         \n",
      "_________________________________________________________________\n",
      "dropout_1 (Dropout)          (None, 14, 14, 16)        0         \n",
      "_________________________________________________________________\n",
      "batch_normalization_1 (Batch (None, 14, 14, 16)        64        \n",
      "_________________________________________________________________\n",
      "conv2d_2 (Conv2D)            (None, 14, 14, 32)        8224      \n",
      "_________________________________________________________________\n",
      "max_pooling2d_2 (MaxPooling2 (None, 7, 7, 32)          0         \n",
      "_________________________________________________________________\n",
      "dropout_2 (Dropout)          (None, 7, 7, 32)          0         \n",
      "_________________________________________________________________\n",
      "batch_normalization_2 (Batch (None, 7, 7, 32)          128       \n",
      "_________________________________________________________________\n",
      "conv2d_3 (Conv2D)            (None, 7, 7, 64)          32832     \n",
      "_________________________________________________________________\n",
      "max_pooling2d_3 (MaxPooling2 (None, 3, 3, 64)          0         \n",
      "_________________________________________________________________\n",
      "dropout_3 (Dropout)          (None, 3, 3, 64)          0         \n",
      "_________________________________________________________________\n",
      "batch_normalization_3 (Batch (None, 3, 3, 64)          256       \n",
      "_________________________________________________________________\n",
      "conv2d_4 (Conv2D)            (None, 3, 3, 128)         32896     \n",
      "_________________________________________________________________\n",
      "max_pooling2d_4 (MaxPooling2 (None, 1, 1, 128)         0         \n",
      "_________________________________________________________________\n",
      "batch_normalization_4 (Batch (None, 1, 1, 128)         512       \n",
      "_________________________________________________________________\n",
      "dropout_4 (Dropout)          (None, 1, 1, 128)         0         \n",
      "_________________________________________________________________\n",
      "flatten_1 (Flatten)          (None, 128)               0         \n",
      "_________________________________________________________________\n",
      "dense_1 (Dense)              (None, 256)               33024     \n",
      "_________________________________________________________________\n",
      "dense_2 (Dense)              (None, 10)                2570      \n",
      "=================================================================\n",
      "Total params: 110,586\n",
      "Trainable params: 110,106\n",
      "Non-trainable params: 480\n",
      "_________________________________________________________________\n"
     ]
    }
   ],
   "source": [
    "model= Sequential()\n",
    "model.add(Conv2D(filters=16,kernel_size=2,padding= 'same',activation='relu',input_shape=(28,28,1)))\n",
    "model.add(MaxPooling2D(pool_size=2))\n",
    "model.add(Dropout(0.2))\n",
    "model.add(BatchNormalization())\n",
    "model.add(Conv2D(filters=32,kernel_size=4,padding='same',activation='relu'))\n",
    "model.add(MaxPooling2D(pool_size=2))\n",
    "model.add(Dropout(0.2))\n",
    "model.add(BatchNormalization())\n",
    "model.add(Conv2D(filters=64,kernel_size=4,padding='same',activation='relu'))\n",
    "model.add(MaxPooling2D(pool_size=2))\n",
    "model.add(Dropout(0.3))\n",
    "model.add(BatchNormalization())\n",
    "model.add(Conv2D(filters=128,kernel_size=2,padding='same',activation='relu'))\n",
    "model.add(MaxPooling2D(pool_size=2))\n",
    "model.add(BatchNormalization())\n",
    "model.add(Dropout(0.3))\n",
    "model.add(Flatten())\n",
    "model.add(Dense(256,activation='relu'))\n",
    "model.add(Dense(num_classes,activation='softmax'))\n",
    "model.summary()"
   ]
  },
  {
   "cell_type": "code",
   "execution_count": 18,
   "metadata": {},
   "outputs": [],
   "source": [
    "model.compile(loss='categorical_crossentropy',optimizer='adam',metrics=['accuracy'])"
   ]
  },
  {
   "cell_type": "code",
   "execution_count": 19,
   "metadata": {},
   "outputs": [],
   "source": [
    "epochs=250\n",
    "batch_size=256"
   ]
  },
  {
   "cell_type": "code",
   "execution_count": 20,
   "metadata": {},
   "outputs": [],
   "source": [
    "datagen = ImageDataGenerator(width_shift_range=0.1,height_shift_range=0.1,horizontal_flip=True,rotation_range=0.5,zoom_range=0.1)\n",
    "datagen.fit(X_train)"
   ]
  },
  {
   "cell_type": "code",
   "execution_count": 21,
   "metadata": {},
   "outputs": [
    {
     "name": "stdout",
     "output_type": "stream",
     "text": [
      "Epoch 1/250\n",
      " - 10s - loss: 1.1806 - acc: 0.5837 - val_loss: 0.5910 - val_acc: 0.8024\n",
      "Epoch 2/250\n",
      " - 7s - loss: 0.5159 - acc: 0.8237 - val_loss: 0.4094 - val_acc: 0.8646\n",
      "Epoch 3/250\n",
      " - 7s - loss: 0.3719 - acc: 0.8786 - val_loss: 0.1912 - val_acc: 0.9390\n",
      "Epoch 4/250\n",
      " - 7s - loss: 0.2846 - acc: 0.9087 - val_loss: 0.1199 - val_acc: 0.9616\n",
      "Epoch 5/250\n",
      " - 7s - loss: 0.2411 - acc: 0.9222 - val_loss: 0.1404 - val_acc: 0.9551\n",
      "Epoch 6/250\n",
      " - 7s - loss: 0.2088 - acc: 0.9325 - val_loss: 0.0886 - val_acc: 0.9721\n",
      "Epoch 7/250\n",
      " - 7s - loss: 0.1871 - acc: 0.9400 - val_loss: 0.0953 - val_acc: 0.9697\n",
      "Epoch 8/250\n",
      " - 7s - loss: 0.1714 - acc: 0.9447 - val_loss: 0.0695 - val_acc: 0.9787\n",
      "Epoch 9/250\n",
      " - 7s - loss: 0.1633 - acc: 0.9479 - val_loss: 0.0780 - val_acc: 0.9762\n",
      "Epoch 10/250\n",
      " - 7s - loss: 0.1579 - acc: 0.9508 - val_loss: 0.0716 - val_acc: 0.9770\n",
      "Epoch 11/250\n",
      " - 7s - loss: 0.1488 - acc: 0.9528 - val_loss: 0.0679 - val_acc: 0.9792\n",
      "Epoch 12/250\n",
      " - 7s - loss: 0.1407 - acc: 0.9552 - val_loss: 0.0840 - val_acc: 0.9748\n",
      "Epoch 13/250\n",
      " - 7s - loss: 0.1375 - acc: 0.9566 - val_loss: 0.0580 - val_acc: 0.9825\n",
      "Epoch 14/250\n",
      " - 7s - loss: 0.1291 - acc: 0.9592 - val_loss: 0.0588 - val_acc: 0.9819\n",
      "Epoch 15/250\n",
      " - 7s - loss: 0.1280 - acc: 0.9593 - val_loss: 0.0613 - val_acc: 0.9810\n",
      "Epoch 16/250\n",
      " - 7s - loss: 0.1225 - acc: 0.9608 - val_loss: 0.0482 - val_acc: 0.9843\n",
      "Epoch 17/250\n",
      " - 7s - loss: 0.1208 - acc: 0.9618 - val_loss: 0.0580 - val_acc: 0.9821\n",
      "Epoch 18/250\n",
      " - 7s - loss: 0.1151 - acc: 0.9632 - val_loss: 0.0659 - val_acc: 0.9781\n",
      "Epoch 19/250\n",
      " - 7s - loss: 0.1145 - acc: 0.9631 - val_loss: 0.0508 - val_acc: 0.9848\n",
      "Epoch 20/250\n",
      " - 7s - loss: 0.1154 - acc: 0.9640 - val_loss: 0.0480 - val_acc: 0.9856\n",
      "Epoch 21/250\n",
      " - 7s - loss: 0.1104 - acc: 0.9662 - val_loss: 0.0398 - val_acc: 0.9878\n",
      "Epoch 22/250\n",
      " - 7s - loss: 0.1085 - acc: 0.9645 - val_loss: 0.0406 - val_acc: 0.9870\n",
      "Epoch 23/250\n",
      " - 7s - loss: 0.1019 - acc: 0.9670 - val_loss: 0.0609 - val_acc: 0.9805\n",
      "Epoch 24/250\n",
      " - 7s - loss: 0.1012 - acc: 0.9684 - val_loss: 0.0478 - val_acc: 0.9849\n",
      "Epoch 25/250\n",
      " - 7s - loss: 0.1062 - acc: 0.9671 - val_loss: 0.0510 - val_acc: 0.9851\n",
      "Epoch 26/250\n",
      " - 7s - loss: 0.1050 - acc: 0.9664 - val_loss: 0.0457 - val_acc: 0.9867\n",
      "Epoch 27/250\n",
      " - 7s - loss: 0.1015 - acc: 0.9690 - val_loss: 0.0387 - val_acc: 0.9870\n",
      "Epoch 28/250\n",
      " - 7s - loss: 0.1005 - acc: 0.9686 - val_loss: 0.0476 - val_acc: 0.9860\n",
      "Epoch 29/250\n",
      " - 7s - loss: 0.1012 - acc: 0.9688 - val_loss: 0.0442 - val_acc: 0.9865\n",
      "Epoch 30/250\n",
      " - 7s - loss: 0.0975 - acc: 0.9689 - val_loss: 0.0509 - val_acc: 0.9848\n",
      "Epoch 31/250\n",
      " - 7s - loss: 0.0970 - acc: 0.9699 - val_loss: 0.0452 - val_acc: 0.9862\n",
      "Epoch 32/250\n",
      " - 7s - loss: 0.0947 - acc: 0.9703 - val_loss: 0.0428 - val_acc: 0.9868\n",
      "Epoch 33/250\n",
      " - 7s - loss: 0.0953 - acc: 0.9706 - val_loss: 0.0361 - val_acc: 0.9886\n",
      "Epoch 34/250\n",
      " - 7s - loss: 0.0948 - acc: 0.9703 - val_loss: 0.0424 - val_acc: 0.9860\n",
      "Epoch 35/250\n",
      " - 7s - loss: 0.0933 - acc: 0.9702 - val_loss: 0.0370 - val_acc: 0.9884\n",
      "Epoch 36/250\n",
      " - 7s - loss: 0.0904 - acc: 0.9707 - val_loss: 0.0409 - val_acc: 0.9876\n",
      "Epoch 37/250\n",
      " - 7s - loss: 0.0902 - acc: 0.9724 - val_loss: 0.0514 - val_acc: 0.9838\n",
      "Epoch 38/250\n",
      " - 7s - loss: 0.0906 - acc: 0.9718 - val_loss: 0.0527 - val_acc: 0.9840\n",
      "Epoch 39/250\n",
      " - 7s - loss: 0.0866 - acc: 0.9722 - val_loss: 0.0393 - val_acc: 0.9862\n",
      "Epoch 40/250\n",
      " - 7s - loss: 0.0886 - acc: 0.9728 - val_loss: 0.0349 - val_acc: 0.9892\n",
      "Epoch 41/250\n",
      " - 7s - loss: 0.0886 - acc: 0.9707 - val_loss: 0.0439 - val_acc: 0.9868\n",
      "Epoch 42/250\n",
      " - 7s - loss: 0.0893 - acc: 0.9708 - val_loss: 0.0496 - val_acc: 0.9846\n",
      "Epoch 43/250\n",
      " - 7s - loss: 0.0892 - acc: 0.9713 - val_loss: 0.0393 - val_acc: 0.9875\n",
      "Epoch 44/250\n",
      " - 8s - loss: 0.0858 - acc: 0.9723 - val_loss: 0.0378 - val_acc: 0.9887\n",
      "Epoch 45/250\n",
      " - 7s - loss: 0.0889 - acc: 0.9715 - val_loss: 0.0472 - val_acc: 0.9865\n",
      "Epoch 46/250\n",
      " - 7s - loss: 0.0864 - acc: 0.9721 - val_loss: 0.0359 - val_acc: 0.9881\n",
      "Epoch 47/250\n",
      " - 7s - loss: 0.0843 - acc: 0.9731 - val_loss: 0.0476 - val_acc: 0.9862\n",
      "Epoch 48/250\n",
      " - 7s - loss: 0.0866 - acc: 0.9725 - val_loss: 0.0448 - val_acc: 0.9865\n",
      "Epoch 49/250\n",
      " - 7s - loss: 0.0829 - acc: 0.9735 - val_loss: 0.0379 - val_acc: 0.9879\n",
      "Epoch 50/250\n",
      " - 7s - loss: 0.0845 - acc: 0.9741 - val_loss: 0.0376 - val_acc: 0.9876\n",
      "Epoch 51/250\n",
      " - 7s - loss: 0.0817 - acc: 0.9739 - val_loss: 0.0440 - val_acc: 0.9862\n",
      "Epoch 52/250\n",
      " - 7s - loss: 0.0850 - acc: 0.9721 - val_loss: 0.0323 - val_acc: 0.9890\n",
      "Epoch 53/250\n",
      " - 7s - loss: 0.0826 - acc: 0.9742 - val_loss: 0.0408 - val_acc: 0.9873\n",
      "Epoch 54/250\n",
      " - 7s - loss: 0.0813 - acc: 0.9739 - val_loss: 0.0429 - val_acc: 0.9865\n",
      "Epoch 55/250\n",
      " - 7s - loss: 0.0822 - acc: 0.9738 - val_loss: 0.0337 - val_acc: 0.9889\n",
      "Epoch 56/250\n",
      " - 7s - loss: 0.0800 - acc: 0.9744 - val_loss: 0.0408 - val_acc: 0.9876\n",
      "Epoch 57/250\n",
      " - 7s - loss: 0.0832 - acc: 0.9740 - val_loss: 0.0345 - val_acc: 0.9892\n",
      "Epoch 58/250\n",
      " - 7s - loss: 0.0797 - acc: 0.9749 - val_loss: 0.0429 - val_acc: 0.9862\n",
      "Epoch 59/250\n",
      " - 7s - loss: 0.0782 - acc: 0.9742 - val_loss: 0.0399 - val_acc: 0.9860\n",
      "Epoch 60/250\n",
      " - 7s - loss: 0.0793 - acc: 0.9748 - val_loss: 0.0351 - val_acc: 0.9887\n",
      "Epoch 61/250\n",
      " - 7s - loss: 0.0763 - acc: 0.9754 - val_loss: 0.0398 - val_acc: 0.9883\n",
      "Epoch 62/250\n",
      " - 7s - loss: 0.0767 - acc: 0.9759 - val_loss: 0.0347 - val_acc: 0.9895\n",
      "Epoch 63/250\n",
      " - 7s - loss: 0.0777 - acc: 0.9756 - val_loss: 0.0369 - val_acc: 0.9890\n",
      "Epoch 64/250\n",
      " - 7s - loss: 0.0770 - acc: 0.9745 - val_loss: 0.0330 - val_acc: 0.9892\n",
      "Epoch 65/250\n",
      " - 7s - loss: 0.0762 - acc: 0.9759 - val_loss: 0.0368 - val_acc: 0.9887\n",
      "Epoch 66/250\n",
      " - 7s - loss: 0.0787 - acc: 0.9749 - val_loss: 0.0342 - val_acc: 0.9895\n",
      "Epoch 67/250\n",
      " - 7s - loss: 0.0797 - acc: 0.9746 - val_loss: 0.0395 - val_acc: 0.9878\n",
      "Epoch 68/250\n",
      " - 7s - loss: 0.0783 - acc: 0.9745 - val_loss: 0.0358 - val_acc: 0.9879\n",
      "Epoch 69/250\n",
      " - 7s - loss: 0.0782 - acc: 0.9754 - val_loss: 0.0457 - val_acc: 0.9865\n",
      "Epoch 70/250\n",
      " - 7s - loss: 0.0769 - acc: 0.9754 - val_loss: 0.0357 - val_acc: 0.9897\n",
      "Epoch 71/250\n",
      " - 7s - loss: 0.0736 - acc: 0.9767 - val_loss: 0.0376 - val_acc: 0.9884\n",
      "Epoch 72/250\n",
      " - 7s - loss: 0.0733 - acc: 0.9765 - val_loss: 0.0412 - val_acc: 0.9868\n",
      "Epoch 73/250\n",
      " - 7s - loss: 0.0747 - acc: 0.9761 - val_loss: 0.0387 - val_acc: 0.9884\n",
      "Epoch 74/250\n",
      " - 7s - loss: 0.0798 - acc: 0.9743 - val_loss: 0.0432 - val_acc: 0.9871\n",
      "Epoch 75/250\n",
      " - 7s - loss: 0.0739 - acc: 0.9760 - val_loss: 0.0341 - val_acc: 0.9898\n",
      "Epoch 76/250\n",
      " - 7s - loss: 0.0782 - acc: 0.9756 - val_loss: 0.0380 - val_acc: 0.9884\n",
      "Epoch 77/250\n",
      " - 7s - loss: 0.0743 - acc: 0.9761 - val_loss: 0.0397 - val_acc: 0.9868\n",
      "Epoch 78/250\n",
      " - 7s - loss: 0.0735 - acc: 0.9762 - val_loss: 0.0298 - val_acc: 0.9905\n",
      "Epoch 79/250\n",
      " - 7s - loss: 0.0757 - acc: 0.9759 - val_loss: 0.0306 - val_acc: 0.9908\n",
      "Epoch 80/250\n",
      " - 7s - loss: 0.0701 - acc: 0.9777 - val_loss: 0.0359 - val_acc: 0.9884\n",
      "Epoch 81/250\n",
      " - 7s - loss: 0.0701 - acc: 0.9776 - val_loss: 0.0344 - val_acc: 0.9887\n",
      "Epoch 82/250\n",
      " - 7s - loss: 0.0711 - acc: 0.9766 - val_loss: 0.0355 - val_acc: 0.9886\n",
      "Epoch 83/250\n",
      " - 7s - loss: 0.0707 - acc: 0.9776 - val_loss: 0.0345 - val_acc: 0.9895\n",
      "Epoch 84/250\n",
      " - 7s - loss: 0.0726 - acc: 0.9774 - val_loss: 0.0373 - val_acc: 0.9884\n",
      "Epoch 85/250\n",
      " - 7s - loss: 0.0736 - acc: 0.9762 - val_loss: 0.0363 - val_acc: 0.9895\n",
      "Epoch 86/250\n",
      " - 7s - loss: 0.0720 - acc: 0.9767 - val_loss: 0.0325 - val_acc: 0.9894\n",
      "Epoch 87/250\n",
      " - 8s - loss: 0.0733 - acc: 0.9769 - val_loss: 0.0408 - val_acc: 0.9875\n",
      "Epoch 88/250\n",
      " - 7s - loss: 0.0714 - acc: 0.9767 - val_loss: 0.0368 - val_acc: 0.9898\n",
      "Epoch 89/250\n",
      " - 7s - loss: 0.0698 - acc: 0.9773 - val_loss: 0.0344 - val_acc: 0.9889\n",
      "Epoch 90/250\n",
      " - 7s - loss: 0.0688 - acc: 0.9781 - val_loss: 0.0313 - val_acc: 0.9905\n",
      "Epoch 91/250\n",
      " - 7s - loss: 0.0712 - acc: 0.9763 - val_loss: 0.0365 - val_acc: 0.9879\n",
      "Epoch 92/250\n",
      " - 7s - loss: 0.0699 - acc: 0.9778 - val_loss: 0.0365 - val_acc: 0.9886\n",
      "Epoch 93/250\n",
      " - 7s - loss: 0.0675 - acc: 0.9782 - val_loss: 0.0379 - val_acc: 0.9878\n",
      "Epoch 94/250\n",
      " - 7s - loss: 0.0734 - acc: 0.9769 - val_loss: 0.0385 - val_acc: 0.9879\n",
      "Epoch 95/250\n",
      " - 7s - loss: 0.0708 - acc: 0.9779 - val_loss: 0.0360 - val_acc: 0.9881\n",
      "Epoch 96/250\n",
      " - 7s - loss: 0.0668 - acc: 0.9778 - val_loss: 0.0472 - val_acc: 0.9849\n",
      "Epoch 97/250\n",
      " - 7s - loss: 0.0716 - acc: 0.9766 - val_loss: 0.0397 - val_acc: 0.9884\n",
      "Epoch 98/250\n",
      " - 7s - loss: 0.0703 - acc: 0.9771 - val_loss: 0.0335 - val_acc: 0.9894\n",
      "Epoch 99/250\n",
      " - 7s - loss: 0.0701 - acc: 0.9768 - val_loss: 0.0407 - val_acc: 0.9873\n",
      "Epoch 100/250\n",
      " - 7s - loss: 0.0685 - acc: 0.9780 - val_loss: 0.0294 - val_acc: 0.9905\n",
      "Epoch 101/250\n",
      " - 7s - loss: 0.0674 - acc: 0.9780 - val_loss: 0.0411 - val_acc: 0.9870\n",
      "Epoch 102/250\n",
      " - 7s - loss: 0.0698 - acc: 0.9772 - val_loss: 0.0271 - val_acc: 0.9911\n",
      "Epoch 103/250\n",
      " - 7s - loss: 0.0696 - acc: 0.9776 - val_loss: 0.0359 - val_acc: 0.9894\n",
      "Epoch 104/250\n",
      " - 7s - loss: 0.0683 - acc: 0.9779 - val_loss: 0.0391 - val_acc: 0.9887\n",
      "Epoch 105/250\n",
      " - 7s - loss: 0.0679 - acc: 0.9783 - val_loss: 0.0344 - val_acc: 0.9898\n",
      "Epoch 106/250\n",
      " - 7s - loss: 0.0671 - acc: 0.9787 - val_loss: 0.0340 - val_acc: 0.9898\n",
      "Epoch 107/250\n",
      " - 7s - loss: 0.0686 - acc: 0.9780 - val_loss: 0.0347 - val_acc: 0.9894\n",
      "Epoch 108/250\n",
      " - 7s - loss: 0.0679 - acc: 0.9784 - val_loss: 0.0312 - val_acc: 0.9897\n",
      "Epoch 109/250\n",
      " - 7s - loss: 0.0662 - acc: 0.9778 - val_loss: 0.0344 - val_acc: 0.9902\n",
      "Epoch 110/250\n",
      " - 7s - loss: 0.0686 - acc: 0.9783 - val_loss: 0.0351 - val_acc: 0.9884\n",
      "Epoch 111/250\n",
      " - 7s - loss: 0.0667 - acc: 0.9787 - val_loss: 0.0305 - val_acc: 0.9895\n",
      "Epoch 112/250\n",
      " - 7s - loss: 0.0691 - acc: 0.9783 - val_loss: 0.0319 - val_acc: 0.9910\n",
      "Epoch 113/250\n",
      " - 7s - loss: 0.0695 - acc: 0.9776 - val_loss: 0.0339 - val_acc: 0.9903\n",
      "Epoch 114/250\n",
      " - 7s - loss: 0.0680 - acc: 0.9788 - val_loss: 0.0300 - val_acc: 0.9894\n",
      "Epoch 115/250\n",
      " - 7s - loss: 0.0651 - acc: 0.9791 - val_loss: 0.0379 - val_acc: 0.9865\n",
      "Epoch 116/250\n",
      " - 7s - loss: 0.0662 - acc: 0.9797 - val_loss: 0.0376 - val_acc: 0.9879\n",
      "Epoch 117/250\n",
      " - 7s - loss: 0.0690 - acc: 0.9766 - val_loss: 0.0324 - val_acc: 0.9895\n",
      "Epoch 118/250\n",
      " - 7s - loss: 0.0700 - acc: 0.9778 - val_loss: 0.0336 - val_acc: 0.9881\n",
      "Epoch 119/250\n",
      " - 7s - loss: 0.0646 - acc: 0.9797 - val_loss: 0.0312 - val_acc: 0.9903\n",
      "Epoch 120/250\n",
      " - 7s - loss: 0.0696 - acc: 0.9772 - val_loss: 0.0348 - val_acc: 0.9884\n",
      "Epoch 121/250\n",
      " - 7s - loss: 0.0644 - acc: 0.9799 - val_loss: 0.0320 - val_acc: 0.9895\n",
      "Epoch 122/250\n",
      " - 7s - loss: 0.0645 - acc: 0.9788 - val_loss: 0.0323 - val_acc: 0.9895\n",
      "Epoch 123/250\n",
      " - 7s - loss: 0.0675 - acc: 0.9790 - val_loss: 0.0347 - val_acc: 0.9889\n",
      "Epoch 124/250\n",
      " - 7s - loss: 0.0672 - acc: 0.9785 - val_loss: 0.0336 - val_acc: 0.9889\n",
      "Epoch 125/250\n",
      " - 7s - loss: 0.0623 - acc: 0.9804 - val_loss: 0.0477 - val_acc: 0.9851\n",
      "Epoch 126/250\n",
      " - 7s - loss: 0.0647 - acc: 0.9791 - val_loss: 0.0355 - val_acc: 0.9884\n",
      "Epoch 127/250\n",
      " - 7s - loss: 0.0662 - acc: 0.9790 - val_loss: 0.0327 - val_acc: 0.9889\n",
      "Epoch 128/250\n",
      " - 7s - loss: 0.0664 - acc: 0.9789 - val_loss: 0.0360 - val_acc: 0.9887\n",
      "Epoch 129/250\n",
      " - 8s - loss: 0.0678 - acc: 0.9787 - val_loss: 0.0346 - val_acc: 0.9894\n",
      "Epoch 130/250\n",
      " - 7s - loss: 0.0663 - acc: 0.9788 - val_loss: 0.0377 - val_acc: 0.9887\n",
      "Epoch 131/250\n",
      " - 7s - loss: 0.0662 - acc: 0.9787 - val_loss: 0.0310 - val_acc: 0.9902\n",
      "Epoch 132/250\n",
      " - 7s - loss: 0.0662 - acc: 0.9784 - val_loss: 0.0361 - val_acc: 0.9881\n",
      "Epoch 133/250\n",
      " - 7s - loss: 0.0663 - acc: 0.9785 - val_loss: 0.0342 - val_acc: 0.9883\n",
      "Epoch 134/250\n",
      " - 7s - loss: 0.0629 - acc: 0.9794 - val_loss: 0.0365 - val_acc: 0.9892\n",
      "Epoch 135/250\n",
      " - 7s - loss: 0.0657 - acc: 0.9787 - val_loss: 0.0303 - val_acc: 0.9906\n",
      "Epoch 136/250\n",
      " - 7s - loss: 0.0635 - acc: 0.9795 - val_loss: 0.0327 - val_acc: 0.9898\n",
      "Epoch 137/250\n",
      " - 7s - loss: 0.0644 - acc: 0.9792 - val_loss: 0.0332 - val_acc: 0.9890\n",
      "Epoch 138/250\n",
      " - 7s - loss: 0.0626 - acc: 0.9795 - val_loss: 0.0322 - val_acc: 0.9892\n",
      "Epoch 139/250\n",
      " - 7s - loss: 0.0640 - acc: 0.9796 - val_loss: 0.0365 - val_acc: 0.9878\n",
      "Epoch 140/250\n",
      " - 7s - loss: 0.0659 - acc: 0.9789 - val_loss: 0.0338 - val_acc: 0.9883\n",
      "Epoch 141/250\n",
      " - 7s - loss: 0.0693 - acc: 0.9777 - val_loss: 0.0297 - val_acc: 0.9897\n",
      "Epoch 142/250\n",
      " - 7s - loss: 0.0611 - acc: 0.9799 - val_loss: 0.0359 - val_acc: 0.9878\n",
      "Epoch 143/250\n",
      " - 7s - loss: 0.0639 - acc: 0.9791 - val_loss: 0.0339 - val_acc: 0.9892\n",
      "Epoch 144/250\n",
      " - 7s - loss: 0.0636 - acc: 0.9797 - val_loss: 0.0307 - val_acc: 0.9902\n",
      "Epoch 145/250\n",
      " - 7s - loss: 0.0623 - acc: 0.9797 - val_loss: 0.0321 - val_acc: 0.9902\n",
      "Epoch 146/250\n",
      " - 7s - loss: 0.0629 - acc: 0.9790 - val_loss: 0.0337 - val_acc: 0.9887\n",
      "Epoch 147/250\n",
      " - 7s - loss: 0.0619 - acc: 0.9797 - val_loss: 0.0333 - val_acc: 0.9900\n",
      "Epoch 148/250\n",
      " - 7s - loss: 0.0617 - acc: 0.9802 - val_loss: 0.0316 - val_acc: 0.9905\n",
      "Epoch 149/250\n",
      " - 7s - loss: 0.0605 - acc: 0.9810 - val_loss: 0.0375 - val_acc: 0.9884\n",
      "Epoch 150/250\n",
      " - 7s - loss: 0.0647 - acc: 0.9785 - val_loss: 0.0319 - val_acc: 0.9902\n",
      "Epoch 151/250\n",
      " - 7s - loss: 0.0611 - acc: 0.9800 - val_loss: 0.0342 - val_acc: 0.9889\n",
      "Epoch 152/250\n",
      " - 7s - loss: 0.0645 - acc: 0.9797 - val_loss: 0.0348 - val_acc: 0.9890\n",
      "Epoch 153/250\n",
      " - 7s - loss: 0.0605 - acc: 0.9803 - val_loss: 0.0359 - val_acc: 0.9887\n",
      "Epoch 154/250\n",
      " - 7s - loss: 0.0599 - acc: 0.9805 - val_loss: 0.0385 - val_acc: 0.9878\n",
      "Epoch 155/250\n",
      " - 7s - loss: 0.0621 - acc: 0.9796 - val_loss: 0.0334 - val_acc: 0.9903\n",
      "Epoch 156/250\n",
      " - 7s - loss: 0.0649 - acc: 0.9789 - val_loss: 0.0360 - val_acc: 0.9883\n",
      "Epoch 157/250\n",
      " - 7s - loss: 0.0636 - acc: 0.9800 - val_loss: 0.0319 - val_acc: 0.9898\n",
      "Epoch 158/250\n",
      " - 7s - loss: 0.0651 - acc: 0.9796 - val_loss: 0.0371 - val_acc: 0.9868\n",
      "Epoch 159/250\n",
      " - 7s - loss: 0.0645 - acc: 0.9789 - val_loss: 0.0329 - val_acc: 0.9897\n",
      "Epoch 160/250\n",
      " - 7s - loss: 0.0601 - acc: 0.9802 - val_loss: 0.0397 - val_acc: 0.9871\n",
      "Epoch 161/250\n",
      " - 7s - loss: 0.0587 - acc: 0.9807 - val_loss: 0.0392 - val_acc: 0.9894\n",
      "Epoch 162/250\n",
      " - 7s - loss: 0.0632 - acc: 0.9787 - val_loss: 0.0325 - val_acc: 0.9890\n",
      "Epoch 163/250\n",
      " - 7s - loss: 0.0619 - acc: 0.9796 - val_loss: 0.0332 - val_acc: 0.9895\n",
      "Epoch 164/250\n",
      " - 7s - loss: 0.0592 - acc: 0.9804 - val_loss: 0.0291 - val_acc: 0.9914\n",
      "Epoch 165/250\n",
      " - 7s - loss: 0.0620 - acc: 0.9805 - val_loss: 0.0368 - val_acc: 0.9897\n",
      "Epoch 166/250\n",
      " - 7s - loss: 0.0601 - acc: 0.9800 - val_loss: 0.0369 - val_acc: 0.9884\n",
      "Epoch 167/250\n",
      " - 7s - loss: 0.0607 - acc: 0.9801 - val_loss: 0.0296 - val_acc: 0.9897\n",
      "Epoch 168/250\n",
      " - 7s - loss: 0.0633 - acc: 0.9794 - val_loss: 0.0300 - val_acc: 0.9906\n",
      "Epoch 169/250\n",
      " - 7s - loss: 0.0594 - acc: 0.9805 - val_loss: 0.0330 - val_acc: 0.9892\n",
      "Epoch 170/250\n",
      " - 7s - loss: 0.0618 - acc: 0.9796 - val_loss: 0.0339 - val_acc: 0.9902\n",
      "Epoch 171/250\n",
      " - 7s - loss: 0.0585 - acc: 0.9804 - val_loss: 0.0291 - val_acc: 0.9913\n",
      "Epoch 172/250\n",
      " - 8s - loss: 0.0616 - acc: 0.9798 - val_loss: 0.0340 - val_acc: 0.9892\n",
      "Epoch 173/250\n",
      " - 7s - loss: 0.0615 - acc: 0.9794 - val_loss: 0.0342 - val_acc: 0.9886\n",
      "Epoch 174/250\n",
      " - 7s - loss: 0.0592 - acc: 0.9807 - val_loss: 0.0327 - val_acc: 0.9908\n",
      "Epoch 175/250\n",
      " - 7s - loss: 0.0617 - acc: 0.9804 - val_loss: 0.0301 - val_acc: 0.9902\n",
      "Epoch 176/250\n",
      " - 7s - loss: 0.0600 - acc: 0.9813 - val_loss: 0.0328 - val_acc: 0.9886\n",
      "Epoch 177/250\n",
      " - 7s - loss: 0.0578 - acc: 0.9816 - val_loss: 0.0287 - val_acc: 0.9895\n",
      "Epoch 178/250\n",
      " - 7s - loss: 0.0612 - acc: 0.9800 - val_loss: 0.0296 - val_acc: 0.9910\n",
      "Epoch 179/250\n",
      " - 7s - loss: 0.0595 - acc: 0.9805 - val_loss: 0.0273 - val_acc: 0.9900\n",
      "Epoch 180/250\n",
      " - 7s - loss: 0.0615 - acc: 0.9800 - val_loss: 0.0266 - val_acc: 0.9898\n",
      "Epoch 181/250\n",
      " - 7s - loss: 0.0576 - acc: 0.9815 - val_loss: 0.0290 - val_acc: 0.9903\n",
      "Epoch 182/250\n",
      " - 7s - loss: 0.0624 - acc: 0.9805 - val_loss: 0.0300 - val_acc: 0.9902\n",
      "Epoch 183/250\n",
      " - 7s - loss: 0.0606 - acc: 0.9806 - val_loss: 0.0388 - val_acc: 0.9886\n",
      "Epoch 184/250\n",
      " - 7s - loss: 0.0601 - acc: 0.9811 - val_loss: 0.0338 - val_acc: 0.9897\n",
      "Epoch 185/250\n",
      " - 7s - loss: 0.0609 - acc: 0.9805 - val_loss: 0.0310 - val_acc: 0.9903\n",
      "Epoch 186/250\n",
      " - 7s - loss: 0.0594 - acc: 0.9806 - val_loss: 0.0378 - val_acc: 0.9881\n",
      "Epoch 187/250\n",
      " - 7s - loss: 0.0581 - acc: 0.9814 - val_loss: 0.0304 - val_acc: 0.9905\n",
      "Epoch 188/250\n",
      " - 7s - loss: 0.0573 - acc: 0.9813 - val_loss: 0.0344 - val_acc: 0.9892\n",
      "Epoch 189/250\n",
      " - 7s - loss: 0.0578 - acc: 0.9810 - val_loss: 0.0301 - val_acc: 0.9905\n",
      "Epoch 190/250\n",
      " - 7s - loss: 0.0595 - acc: 0.9807 - val_loss: 0.0321 - val_acc: 0.9898\n",
      "Epoch 191/250\n",
      " - 7s - loss: 0.0565 - acc: 0.9813 - val_loss: 0.0324 - val_acc: 0.9900\n",
      "Epoch 192/250\n",
      " - 7s - loss: 0.0600 - acc: 0.9806 - val_loss: 0.0297 - val_acc: 0.9910\n",
      "Epoch 193/250\n",
      " - 7s - loss: 0.0572 - acc: 0.9819 - val_loss: 0.0270 - val_acc: 0.9919\n",
      "Epoch 194/250\n",
      " - 7s - loss: 0.0585 - acc: 0.9813 - val_loss: 0.0491 - val_acc: 0.9846\n",
      "Epoch 195/250\n",
      " - 7s - loss: 0.0603 - acc: 0.9804 - val_loss: 0.0338 - val_acc: 0.9890\n",
      "Epoch 196/250\n",
      " - 7s - loss: 0.0572 - acc: 0.9816 - val_loss: 0.0341 - val_acc: 0.9884\n",
      "Epoch 197/250\n",
      " - 7s - loss: 0.0591 - acc: 0.9809 - val_loss: 0.0357 - val_acc: 0.9895\n",
      "Epoch 198/250\n",
      " - 7s - loss: 0.0588 - acc: 0.9811 - val_loss: 0.0283 - val_acc: 0.9905\n",
      "Epoch 199/250\n",
      " - 7s - loss: 0.0586 - acc: 0.9811 - val_loss: 0.0329 - val_acc: 0.9892\n",
      "Epoch 200/250\n",
      " - 7s - loss: 0.0589 - acc: 0.9810 - val_loss: 0.0389 - val_acc: 0.9883\n",
      "Epoch 201/250\n",
      " - 7s - loss: 0.0600 - acc: 0.9805 - val_loss: 0.0323 - val_acc: 0.9898\n",
      "Epoch 202/250\n",
      " - 7s - loss: 0.0566 - acc: 0.9810 - val_loss: 0.0370 - val_acc: 0.9890\n",
      "Epoch 203/250\n",
      " - 7s - loss: 0.0597 - acc: 0.9806 - val_loss: 0.0330 - val_acc: 0.9897\n",
      "Epoch 204/250\n",
      " - 7s - loss: 0.0584 - acc: 0.9819 - val_loss: 0.0263 - val_acc: 0.9910\n",
      "Epoch 205/250\n",
      " - 7s - loss: 0.0586 - acc: 0.9804 - val_loss: 0.0351 - val_acc: 0.9889\n",
      "Epoch 206/250\n",
      " - 7s - loss: 0.0589 - acc: 0.9803 - val_loss: 0.0282 - val_acc: 0.9903\n",
      "Epoch 207/250\n",
      " - 7s - loss: 0.0564 - acc: 0.9826 - val_loss: 0.0279 - val_acc: 0.9924\n",
      "Epoch 208/250\n",
      " - 7s - loss: 0.0579 - acc: 0.9812 - val_loss: 0.0368 - val_acc: 0.9878\n",
      "Epoch 209/250\n",
      " - 7s - loss: 0.0549 - acc: 0.9827 - val_loss: 0.0358 - val_acc: 0.9892\n",
      "Epoch 210/250\n",
      " - 7s - loss: 0.0583 - acc: 0.9806 - val_loss: 0.0311 - val_acc: 0.9895\n",
      "Epoch 211/250\n",
      " - 7s - loss: 0.0584 - acc: 0.9812 - val_loss: 0.0322 - val_acc: 0.9892\n",
      "Epoch 212/250\n",
      " - 7s - loss: 0.0587 - acc: 0.9806 - val_loss: 0.0330 - val_acc: 0.9894\n",
      "Epoch 213/250\n",
      " - 7s - loss: 0.0606 - acc: 0.9807 - val_loss: 0.0310 - val_acc: 0.9898\n",
      "Epoch 214/250\n",
      " - 7s - loss: 0.0547 - acc: 0.9829 - val_loss: 0.0315 - val_acc: 0.9906\n",
      "Epoch 215/250\n",
      " - 8s - loss: 0.0568 - acc: 0.9821 - val_loss: 0.0339 - val_acc: 0.9894\n",
      "Epoch 216/250\n",
      " - 7s - loss: 0.0580 - acc: 0.9809 - val_loss: 0.0297 - val_acc: 0.9914\n",
      "Epoch 217/250\n",
      " - 7s - loss: 0.0592 - acc: 0.9804 - val_loss: 0.0293 - val_acc: 0.9902\n",
      "Epoch 218/250\n",
      " - 7s - loss: 0.0585 - acc: 0.9807 - val_loss: 0.0300 - val_acc: 0.9897\n",
      "Epoch 219/250\n",
      " - 7s - loss: 0.0586 - acc: 0.9803 - val_loss: 0.0360 - val_acc: 0.9884\n",
      "Epoch 220/250\n",
      " - 7s - loss: 0.0572 - acc: 0.9815 - val_loss: 0.0280 - val_acc: 0.9906\n",
      "Epoch 221/250\n",
      " - 7s - loss: 0.0579 - acc: 0.9806 - val_loss: 0.0292 - val_acc: 0.9914\n",
      "Epoch 222/250\n",
      " - 7s - loss: 0.0568 - acc: 0.9813 - val_loss: 0.0378 - val_acc: 0.9886\n",
      "Epoch 223/250\n",
      " - 7s - loss: 0.0578 - acc: 0.9809 - val_loss: 0.0356 - val_acc: 0.9894\n",
      "Epoch 224/250\n",
      " - 7s - loss: 0.0574 - acc: 0.9808 - val_loss: 0.0302 - val_acc: 0.9903\n",
      "Epoch 225/250\n",
      " - 7s - loss: 0.0529 - acc: 0.9829 - val_loss: 0.0373 - val_acc: 0.9887\n",
      "Epoch 226/250\n",
      " - 7s - loss: 0.0568 - acc: 0.9816 - val_loss: 0.0296 - val_acc: 0.9905\n",
      "Epoch 227/250\n",
      " - 7s - loss: 0.0584 - acc: 0.9815 - val_loss: 0.0324 - val_acc: 0.9900\n",
      "Epoch 228/250\n",
      " - 7s - loss: 0.0565 - acc: 0.9822 - val_loss: 0.0293 - val_acc: 0.9914\n",
      "Epoch 229/250\n",
      " - 7s - loss: 0.0541 - acc: 0.9824 - val_loss: 0.0342 - val_acc: 0.9890\n",
      "Epoch 230/250\n",
      " - 7s - loss: 0.0577 - acc: 0.9814 - val_loss: 0.0352 - val_acc: 0.9895\n",
      "Epoch 231/250\n",
      " - 7s - loss: 0.0561 - acc: 0.9824 - val_loss: 0.0344 - val_acc: 0.9898\n",
      "Epoch 232/250\n",
      " - 7s - loss: 0.0566 - acc: 0.9815 - val_loss: 0.0336 - val_acc: 0.9897\n",
      "Epoch 233/250\n",
      " - 7s - loss: 0.0559 - acc: 0.9822 - val_loss: 0.0333 - val_acc: 0.9897\n",
      "Epoch 234/250\n",
      " - 7s - loss: 0.0585 - acc: 0.9817 - val_loss: 0.0369 - val_acc: 0.9875\n",
      "Epoch 235/250\n",
      " - 7s - loss: 0.0568 - acc: 0.9817 - val_loss: 0.0287 - val_acc: 0.9919\n",
      "Epoch 236/250\n",
      " - 7s - loss: 0.0537 - acc: 0.9831 - val_loss: 0.0327 - val_acc: 0.9916\n",
      "Epoch 237/250\n",
      " - 7s - loss: 0.0586 - acc: 0.9813 - val_loss: 0.0306 - val_acc: 0.9908\n",
      "Epoch 238/250\n",
      " - 7s - loss: 0.0548 - acc: 0.9824 - val_loss: 0.0335 - val_acc: 0.9900\n",
      "Epoch 239/250\n",
      " - 7s - loss: 0.0572 - acc: 0.9819 - val_loss: 0.0277 - val_acc: 0.9914\n",
      "Epoch 240/250\n",
      " - 7s - loss: 0.0537 - acc: 0.9824 - val_loss: 0.0367 - val_acc: 0.9886\n",
      "Epoch 241/250\n",
      " - 7s - loss: 0.0585 - acc: 0.9808 - val_loss: 0.0303 - val_acc: 0.9908\n",
      "Epoch 242/250\n",
      " - 7s - loss: 0.0564 - acc: 0.9816 - val_loss: 0.0309 - val_acc: 0.9911\n",
      "Epoch 243/250\n",
      " - 7s - loss: 0.0532 - acc: 0.9832 - val_loss: 0.0338 - val_acc: 0.9887\n",
      "Epoch 244/250\n",
      " - 7s - loss: 0.0558 - acc: 0.9816 - val_loss: 0.0314 - val_acc: 0.9900\n",
      "Epoch 245/250\n",
      " - 7s - loss: 0.0563 - acc: 0.9816 - val_loss: 0.0323 - val_acc: 0.9900\n",
      "Epoch 246/250\n",
      " - 7s - loss: 0.0557 - acc: 0.9816 - val_loss: 0.0318 - val_acc: 0.9894\n",
      "Epoch 247/250\n",
      " - 7s - loss: 0.0555 - acc: 0.9821 - val_loss: 0.0284 - val_acc: 0.9906\n",
      "Epoch 248/250\n",
      " - 7s - loss: 0.0539 - acc: 0.9816 - val_loss: 0.0292 - val_acc: 0.9911\n",
      "Epoch 249/250\n",
      " - 7s - loss: 0.0537 - acc: 0.9822 - val_loss: 0.0286 - val_acc: 0.9916\n",
      "Epoch 250/250\n",
      " - 7s - loss: 0.0557 - acc: 0.9817 - val_loss: 0.0326 - val_acc: 0.9898\n"
     ]
    }
   ],
   "source": [
    "checkpoint =model.fit_generator(datagen.flow(X_train,y_train,batch_size=batch_size),epochs=epochs,validation_data= (X_valid,y_valid),verbose=2,steps_per_epoch=X_train.shape[0]/batch_size)    "
   ]
  },
  {
   "cell_type": "code",
   "execution_count": 22,
   "metadata": {},
   "outputs": [
    {
     "name": "stdout",
     "output_type": "stream",
     "text": [
      "6300/6300 [==============================] - 0s 68us/step\n",
      "\n",
      " Test accuracy: 98.98\n"
     ]
    }
   ],
   "source": [
    "score=model.evaluate(X_valid,y_valid,verbose=1)\n",
    "print('\\n', 'Test accuracy:', round(score[1]*100,2))"
   ]
  },
  {
   "cell_type": "code",
   "execution_count": 23,
   "metadata": {},
   "outputs": [],
   "source": [
    "results = model.predict(test)\n",
    "results = np.argmax(results,axis = 1)\n",
    "results = pd.Series(results,name=\"Label\")"
   ]
  },
  {
   "cell_type": "code",
   "execution_count": 24,
   "metadata": {},
   "outputs": [],
   "source": [
    "submission = pd.concat([pd.Series(range(1,28001),name = \"ImageId\"),results],axis = 1)\n",
    "submission.to_csv(\"mysubmission.csv\",index=False)"
   ]
  },
  {
   "cell_type": "code",
   "execution_count": null,
   "metadata": {},
   "outputs": [],
   "source": []
  },
  {
   "cell_type": "code",
   "execution_count": null,
   "metadata": {},
   "outputs": [],
   "source": []
  },
  {
   "cell_type": "code",
   "execution_count": null,
   "metadata": {},
   "outputs": [],
   "source": []
  },
  {
   "cell_type": "code",
   "execution_count": null,
   "metadata": {},
   "outputs": [],
   "source": []
  }
 ],
 "metadata": {
  "kernelspec": {
   "display_name": "Python 3",
   "language": "python",
   "name": "python3"
  },
  "language_info": {
   "codemirror_mode": {
    "name": "ipython",
    "version": 3
   },
   "file_extension": ".py",
   "mimetype": "text/x-python",
   "name": "python",
   "nbconvert_exporter": "python",
   "pygments_lexer": "ipython3",
   "version": "3.6.6"
  }
 },
 "nbformat": 4,
 "nbformat_minor": 1
}
